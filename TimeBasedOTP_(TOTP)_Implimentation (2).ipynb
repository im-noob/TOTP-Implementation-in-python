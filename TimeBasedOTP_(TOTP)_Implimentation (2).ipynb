{
  "nbformat": 4,
  "nbformat_minor": 0,
  "metadata": {
    "colab": {
      "name": "TimeBasedOTP (TOTP) Implimentation.ipynb",
      "provenance": [],
      "collapsed_sections": []
    },
    "kernelspec": {
      "name": "python3",
      "display_name": "Python 3"
    },
    "language_info": {
      "name": "python"
    }
  },
  "cells": [
    {
      "cell_type": "code",
      "metadata": {
        "colab": {
          "base_uri": "https://localhost:8080/"
        },
        "id": "QWtQkK9iulvC",
        "outputId": "4112666a-acf9-4e97-9e40-6572b0ffdbd1"
      },
      "source": [
        "!pip install pyotp\n",
        "!pip install pyqrcode"
      ],
      "execution_count": 25,
      "outputs": [
        {
          "output_type": "stream",
          "text": [
            "Requirement already satisfied: pyotp in /usr/local/lib/python3.7/dist-packages (2.6.0)\n",
            "Requirement already satisfied: pyqrcode in /usr/local/lib/python3.7/dist-packages (1.2.1)\n"
          ],
          "name": "stdout"
        }
      ]
    },
    {
      "cell_type": "code",
      "metadata": {
        "id": "d51Gwx4AvRGF"
      },
      "source": [
        "import pyotp\n",
        "import pyqrcode\n",
        "import matplotlib_inline\n",
        "import time"
      ],
      "execution_count": 34,
      "outputs": []
    },
    {
      "cell_type": "code",
      "metadata": {
        "id": "H5NY8lutut_R"
      },
      "source": [
        "secure_code = 'amritesh'\n",
        "genrated_uri = pyotp.totp.TOTP(secure_code).provisioning_uri(name='aarav@google.com', issuer_name='Secure App By Amritesh')"
      ],
      "execution_count": 27,
      "outputs": []
    },
    {
      "cell_type": "code",
      "metadata": {
        "colab": {
          "base_uri": "https://localhost:8080/",
          "height": 52
        },
        "id": "09pENNo8vaHN",
        "outputId": "77a84e9d-637a-472d-e835-ae00dd035374"
      },
      "source": [
        "genrated_uri"
      ],
      "execution_count": 28,
      "outputs": [
        {
          "output_type": "execute_result",
          "data": {
            "application/vnd.google.colaboratory.intrinsic+json": {
              "type": "string"
            },
            "text/plain": [
              "'otpauth://totp/Secure%20App%20By%20Amritesh:aarav%40google.com?secret=amritesh&issuer=Secure%20App%20By%20Amritesh'"
            ]
          },
          "metadata": {
            "tags": []
          },
          "execution_count": 28
        }
      ]
    },
    {
      "cell_type": "code",
      "metadata": {
        "colab": {
          "base_uri": "https://localhost:8080/"
        },
        "id": "dOPLxO06va7N",
        "outputId": "7607b87a-4a02-4bc9-a88c-ed124b3a601a"
      },
      "source": [
        "pyotp.parse_uri(genrated_uri)"
      ],
      "execution_count": 29,
      "outputs": [
        {
          "output_type": "execute_result",
          "data": {
            "text/plain": [
              "<pyotp.totp.TOTP at 0x7f258145d5d0>"
            ]
          },
          "metadata": {
            "tags": []
          },
          "execution_count": 29
        }
      ]
    },
    {
      "cell_type": "code",
      "metadata": {
        "id": "mGKCMva-wIvf"
      },
      "source": [
        "qr_code_url = pyqrcode.create(genrated_uri)"
      ],
      "execution_count": 30,
      "outputs": []
    },
    {
      "cell_type": "code",
      "metadata": {
        "id": "iA1VfRTcxIBx"
      },
      "source": [
        "qr_code_url.svg('myqr.png', scale = 6)"
      ],
      "execution_count": 33,
      "outputs": []
    },
    {
      "cell_type": "code",
      "metadata": {
        "id": "dJh1ufjQvjYd"
      },
      "source": [
        "# Now scan myqr.png in your app"
      ],
      "execution_count": 37,
      "outputs": []
    },
    {
      "cell_type": "code",
      "metadata": {
        "id": "EQ847aSxvPR9"
      },
      "source": [
        "while True:\n",
        "    totp = pyotp.TOTP(secure_code)\n",
        "    print(\"Current OTP:\", totp.now())\n",
        "    time.sleep(30)\n"
      ],
      "execution_count": null,
      "outputs": []
    },
    {
      "cell_type": "markdown",
      "metadata": {
        "id": "om_xwCXxzOE1"
      },
      "source": [
        "**Reference:**\n",
        "\n",
        "https://www.section.io/engineering-education/implementing-totp-2fa-using-flask/\n",
        "\n",
        "https://pyauth.github.io/pyotp/#installation\n",
        "\n",
        "https://www.geeksforgeeks.org/python-generate-qr-code-using-pyqrcode-module/"
      ]
    }
  ]
}